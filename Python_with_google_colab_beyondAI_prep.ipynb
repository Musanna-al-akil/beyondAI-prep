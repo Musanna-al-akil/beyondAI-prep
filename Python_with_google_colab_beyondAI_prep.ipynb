{
  "nbformat": 4,
  "nbformat_minor": 0,
  "metadata": {
    "colab": {
      "provenance": [],
      "gpuType": "T4",
      "authorship_tag": "ABX9TyPrbD0wWnY27HoAH8kibkcp",
      "include_colab_link": true
    },
    "kernelspec": {
      "name": "python3",
      "display_name": "Python 3"
    },
    "language_info": {
      "name": "python"
    },
    "accelerator": "GPU"
  },
  "cells": [
    {
      "cell_type": "markdown",
      "metadata": {
        "id": "view-in-github",
        "colab_type": "text"
      },
      "source": [
        "<a href=\"https://colab.research.google.com/github/Musanna-al-akil/beyondAI-prep/blob/master/Python_with_google_colab_beyondAI_prep.ipynb\" target=\"_parent\"><img src=\"https://colab.research.google.com/assets/colab-badge.svg\" alt=\"Open In Colab\"/></a>"
      ]
    },
    {
      "cell_type": "code",
      "execution_count": null,
      "metadata": {
        "id": "hqDcoA_Le8B-"
      },
      "outputs": [],
      "source": []
    },
    {
      "cell_type": "markdown",
      "source": [
        "# This is title\n",
        "\n",
        "\n",
        "```\n",
        "this is formatted as code\n",
        "```"
      ],
      "metadata": {
        "id": "-S9rWL1EfMdH"
      }
    },
    {
      "cell_type": "code",
      "source": [
        "print('hello word')"
      ],
      "metadata": {
        "colab": {
          "base_uri": "https://localhost:8080/"
        },
        "id": "C1wyEWjdffBK",
        "outputId": "528042b8-ae77-4800-9fde-4353054249e7"
      },
      "execution_count": null,
      "outputs": [
        {
          "output_type": "stream",
          "name": "stdout",
          "text": [
            "hello word\n"
          ]
        }
      ]
    },
    {
      "cell_type": "code",
      "source": [
        "3+5"
      ],
      "metadata": {
        "colab": {
          "base_uri": "https://localhost:8080/"
        },
        "id": "b1exgQkWfiiU",
        "outputId": "6940ba75-ff5c-4b0c-a516-8559543af1a5"
      },
      "execution_count": null,
      "outputs": [
        {
          "output_type": "execute_result",
          "data": {
            "text/plain": [
              "8"
            ]
          },
          "metadata": {},
          "execution_count": 3
        }
      ]
    },
    {
      "cell_type": "markdown",
      "source": [
        "# Public Link"
      ],
      "metadata": {
        "id": "RsUnMySzhAM9"
      }
    },
    {
      "cell_type": "code",
      "source": [
        "!wget https://gist.github.com/garrettgman/9629323"
      ],
      "metadata": {
        "colab": {
          "base_uri": "https://localhost:8080/"
        },
        "id": "Bc3_fqhVhCJF",
        "outputId": "d01eaa06-9c99-458d-8730-7bf92add96c9"
      },
      "execution_count": null,
      "outputs": [
        {
          "output_type": "stream",
          "name": "stdout",
          "text": [
            "--2025-08-07 17:11:33--  https://gist.github.com/garrettgman/9629323\n",
            "Resolving gist.github.com (gist.github.com)... 140.82.114.3\n",
            "Connecting to gist.github.com (gist.github.com)|140.82.114.3|:443... connected.\n",
            "HTTP request sent, awaiting response... 200 OK\n",
            "Length: unspecified [text/html]\n",
            "Saving to: ‘9629323’\n",
            "\n",
            "9629323                 [ <=>                ] 290.04K  --.-KB/s    in 0.05s   \n",
            "\n",
            "2025-08-07 17:11:34 (5.82 MB/s) - ‘9629323’ saved [296999]\n",
            "\n"
          ]
        }
      ]
    },
    {
      "cell_type": "code",
      "source": [
        "!ls"
      ],
      "metadata": {
        "colab": {
          "base_uri": "https://localhost:8080/"
        },
        "id": "1Au9L9xmhD4x",
        "outputId": "ddf8eb69-a944-4401-e503-215cb93f4175"
      },
      "execution_count": null,
      "outputs": [
        {
          "output_type": "stream",
          "name": "stdout",
          "text": [
            "9629323  sample_data\n"
          ]
        }
      ]
    },
    {
      "cell_type": "code",
      "source": [
        "import pandas as pd"
      ],
      "metadata": {
        "id": "sty5sDHPhHwj"
      },
      "execution_count": null,
      "outputs": []
    },
    {
      "cell_type": "code",
      "source": [
        "pd.read_csv('sample_data/mnist_test.csv', sep = '\\t').head()"
      ],
      "metadata": {
        "colab": {
          "base_uri": "https://localhost:8080/",
          "height": 226
        },
        "id": "gcYeKFHBhV5X",
        "outputId": "d3dcfbcb-946e-475f-dd8a-3650917b78f2"
      },
      "execution_count": null,
      "outputs": [
        {
          "output_type": "execute_result",
          "data": {
            "text/plain": [
              "  7,0,0,0,0,0,0,0,0,0,0,0,0,0,0,0,0,0,0,0,0,0,0,0,0,0,0,0,0,0,0,0,0,0,0,0,0,0,0,0,0,0,0,0,0,0,0,0,0,0,0,0,0,0,0,0,0,0,0,0,0,0,0,0,0,0,0,0,0,0,0,0,0,0,0,0,0,0,0,0,0,0,0,0,0,0,0,0,0,0,0,0,0,0,0,0,0,0,0,0,0,0,0,0,0,0,0,0,0,0,0,0,0,0,0,0,0,0,0,0,0,0,0,0,0,0,0,0,0,0,0,0,0,0,0,0,0,0,0,0,0,0,0,0,0,0,0,0,0,0,0,0,0,0,0,0,0,0,0,0,0,0,0,0,0,0,0,0,0,0,0,0,0,0,0,0,0,0,0,0,0,0,0,0,0,0,0,0,0,0,0,0,0,0,0,0,0,0,0,0,0,0,0,84,185,159,151,60,36,0,0,0,0,0,0,0,0,0,0,0,0,0,0,0,0,0,0,0,0,0,0,222,254,254,254,254,241,198,198,198,198,198,198,198,198,170,52,0,0,0,0,0,0,0,0,0,0,0,0,67,114,72,114,163,227,254,225,254,254,254,250,229,254,254,140,0,0,0,0,0,0,0,0,0,0,0,0,0,0,0,0,0,17,66,14,67,67,67,59,21,236,254,106,0,0,0,0,0,0,0,0,0,0,0,0,0,0,0,0,0,0,0,0,0,0,0,0,83,253,209,18,0,0,0,0,0,0,0,0,0,0,0,0,0,0,0,0,0,0,0,0,0,0,0,22,233,255,83,0,0,0,0,0,0,0,0,0,0,0,0,0,0,0,0,0,0,0,0,0,0,0,0,129,254,238,44,0,0,0,0,0,0,0,0,0,0,0,0,0,0,0,0,0,0,0,0,0,0,0,59,249,254,62,0,0,0,0,0,0,0,0,0,0,0,0,0,0,0,0,0,0,0,0,0,0,0,0,133,254,187,5,0,0,0,0,0,0,0,0,0,0,0,0,0,0,0,0,0,0,0,0,0,0,0,9,205,248,58,0,0,0,0,0,0,0,0,0,0,0,0,0,0,0,0,0,0,0,0,0,0,0,0,126,254,182,0,0,0,0,0,0,0,0,0,0,0,0,0,0,0,0,0,0,0,0,0,0,0,0,75,251,240,57,0,0,0,0,0,0,0,0,0,0,0,0,0,0,0,0,0,0,0,0,0,0,0,19,221,254,166,0,0,0,0,0,0,0,0,0,0,0,0,0,0,0,0,0,0,0,0,0,0,0,3,203,254,219,35,0,0,0,0,0,0,0,0,0,0,0,0,0,0,0,0,0,0,0,0,0,0,0,38,254,254,77,0,0,0,0,0,0,0,0,0,0,0,0,0,0,0,0,0,0,0,0,0,0,0,31,224,254,115,1,0,0,0,0,0,0,0,0,0,0,0,0,0,0,0,0,0,0,0,0,0,0,0,133,254,254,52,0,0,0,0,0,0,0,0,0,0,0,0,0,0,0,0,0,0,0,0,0,0,0,61,242,254,254,52,0,0,0,0,0,0,0,0,0,0,0,0,0,0,0,0,0,0,0,0,0,0,0,121,254,254,219,40,0,0,0,0,0,0,0,0,0,0,0,0,0,0,0,0,0,0,0,0,0,0,0,121,254,207,18,0,0,0,0,0,0,0,0,0,0,0,0,0,0,0,0,0,0,0,0,0,0,0,0,0,0,0,0,0,0,0,0,0,0,0,0,0,0,0,0,0,0\n",
              "0  2,0,0,0,0,0,0,0,0,0,0,0,0,0,0,0,0,0,0,0,0,0,0,...                                                                                                                                                                                                                                                                                                                                                                                                                                                                                                                                                                                                                                                                                                                                                                                                                                                                                                                                                                                                                                                                                                                                                                                                                                                                                                                                                                                                                                                                                                                                                                                                                                                                                                                                                                             \n",
              "1  1,0,0,0,0,0,0,0,0,0,0,0,0,0,0,0,0,0,0,0,0,0,0,...                                                                                                                                                                                                                                                                                                                                                                                                                                                                                                                                                                                                                                                                                                                                                                                                                                                                                                                                                                                                                                                                                                                                                                                                                                                                                                                                                                                                                                                                                                                                                                                                                                                                                                                                                                             \n",
              "2  0,0,0,0,0,0,0,0,0,0,0,0,0,0,0,0,0,0,0,0,0,0,0,...                                                                                                                                                                                                                                                                                                                                                                                                                                                                                                                                                                                                                                                                                                                                                                                                                                                                                                                                                                                                                                                                                                                                                                                                                                                                                                                                                                                                                                                                                                                                                                                                                                                                                                                                                                             \n",
              "3  4,0,0,0,0,0,0,0,0,0,0,0,0,0,0,0,0,0,0,0,0,0,0,...                                                                                                                                                                                                                                                                                                                                                                                                                                                                                                                                                                                                                                                                                                                                                                                                                                                                                                                                                                                                                                                                                                                                                                                                                                                                                                                                                                                                                                                                                                                                                                                                                                                                                                                                                                             \n",
              "4  1,0,0,0,0,0,0,0,0,0,0,0,0,0,0,0,0,0,0,0,0,0,0,...                                                                                                                                                                                                                                                                                                                                                                                                                                                                                                                                                                                                                                                                                                                                                                                                                                                                                                                                                                                                                                                                                                                                                                                                                                                                                                                                                                                                                                                                                                                                                                                                                                                                                                                                                                             "
            ],
            "text/html": [
              "\n",
              "  <div id=\"df-40fd353f-c3da-4226-97c9-578357b013f6\" class=\"colab-df-container\">\n",
              "    <div>\n",
              "<style scoped>\n",
              "    .dataframe tbody tr th:only-of-type {\n",
              "        vertical-align: middle;\n",
              "    }\n",
              "\n",
              "    .dataframe tbody tr th {\n",
              "        vertical-align: top;\n",
              "    }\n",
              "\n",
              "    .dataframe thead th {\n",
              "        text-align: right;\n",
              "    }\n",
              "</style>\n",
              "<table border=\"1\" class=\"dataframe\">\n",
              "  <thead>\n",
              "    <tr style=\"text-align: right;\">\n",
              "      <th></th>\n",
              "      <th>7,0,0,0,0,0,0,0,0,0,0,0,0,0,0,0,0,0,0,0,0,0,0,0,0,0,0,0,0,0,0,0,0,0,0,0,0,0,0,0,0,0,0,0,0,0,0,0,0,0,0,0,0,0,0,0,0,0,0,0,0,0,0,0,0,0,0,0,0,0,0,0,0,0,0,0,0,0,0,0,0,0,0,0,0,0,0,0,0,0,0,0,0,0,0,0,0,0,0,0,0,0,0,0,0,0,0,0,0,0,0,0,0,0,0,0,0,0,0,0,0,0,0,0,0,0,0,0,0,0,0,0,0,0,0,0,0,0,0,0,0,0,0,0,0,0,0,0,0,0,0,0,0,0,0,0,0,0,0,0,0,0,0,0,0,0,0,0,0,0,0,0,0,0,0,0,0,0,0,0,0,0,0,0,0,0,0,0,0,0,0,0,0,0,0,0,0,0,0,0,0,0,0,84,185,159,151,60,36,0,0,0,0,0,0,0,0,0,0,0,0,0,0,0,0,0,0,0,0,0,0,222,254,254,254,254,241,198,198,198,198,198,198,198,198,170,52,0,0,0,0,0,0,0,0,0,0,0,0,67,114,72,114,163,227,254,225,254,254,254,250,229,254,254,140,0,0,0,0,0,0,0,0,0,0,0,0,0,0,0,0,0,17,66,14,67,67,67,59,21,236,254,106,0,0,0,0,0,0,0,0,0,0,0,0,0,0,0,0,0,0,0,0,0,0,0,0,83,253,209,18,0,0,0,0,0,0,0,0,0,0,0,0,0,0,0,0,0,0,0,0,0,0,0,22,233,255,83,0,0,0,0,0,0,0,0,0,0,0,0,0,0,0,0,0,0,0,0,0,0,0,0,129,254,238,44,0,0,0,0,0,0,0,0,0,0,0,0,0,0,0,0,0,0,0,0,0,0,0,59,249,254,62,0,0,0,0,0,0,0,0,0,0,0,0,0,0,0,0,0,0,0,0,0,0,0,0,133,254,187,5,0,0,0,0,0,0,0,0,0,0,0,0,0,0,0,0,0,0,0,0,0,0,0,9,205,248,58,0,0,0,0,0,0,0,0,0,0,0,0,0,0,0,0,0,0,0,0,0,0,0,0,126,254,182,0,0,0,0,0,0,0,0,0,0,0,0,0,0,0,0,0,0,0,0,0,0,0,0,75,251,240,57,0,0,0,0,0,0,0,0,0,0,0,0,0,0,0,0,0,0,0,0,0,0,0,19,221,254,166,0,0,0,0,0,0,0,0,0,0,0,0,0,0,0,0,0,0,0,0,0,0,0,3,203,254,219,35,0,0,0,0,0,0,0,0,0,0,0,0,0,0,0,0,0,0,0,0,0,0,0,38,254,254,77,0,0,0,0,0,0,0,0,0,0,0,0,0,0,0,0,0,0,0,0,0,0,0,31,224,254,115,1,0,0,0,0,0,0,0,0,0,0,0,0,0,0,0,0,0,0,0,0,0,0,0,133,254,254,52,0,0,0,0,0,0,0,0,0,0,0,0,0,0,0,0,0,0,0,0,0,0,0,61,242,254,254,52,0,0,0,0,0,0,0,0,0,0,0,0,0,0,0,0,0,0,0,0,0,0,0,121,254,254,219,40,0,0,0,0,0,0,0,0,0,0,0,0,0,0,0,0,0,0,0,0,0,0,0,121,254,207,18,0,0,0,0,0,0,0,0,0,0,0,0,0,0,0,0,0,0,0,0,0,0,0,0,0,0,0,0,0,0,0,0,0,0,0,0,0,0,0,0,0,0</th>\n",
              "    </tr>\n",
              "  </thead>\n",
              "  <tbody>\n",
              "    <tr>\n",
              "      <th>0</th>\n",
              "      <td>2,0,0,0,0,0,0,0,0,0,0,0,0,0,0,0,0,0,0,0,0,0,0,...</td>\n",
              "    </tr>\n",
              "    <tr>\n",
              "      <th>1</th>\n",
              "      <td>1,0,0,0,0,0,0,0,0,0,0,0,0,0,0,0,0,0,0,0,0,0,0,...</td>\n",
              "    </tr>\n",
              "    <tr>\n",
              "      <th>2</th>\n",
              "      <td>0,0,0,0,0,0,0,0,0,0,0,0,0,0,0,0,0,0,0,0,0,0,0,...</td>\n",
              "    </tr>\n",
              "    <tr>\n",
              "      <th>3</th>\n",
              "      <td>4,0,0,0,0,0,0,0,0,0,0,0,0,0,0,0,0,0,0,0,0,0,0,...</td>\n",
              "    </tr>\n",
              "    <tr>\n",
              "      <th>4</th>\n",
              "      <td>1,0,0,0,0,0,0,0,0,0,0,0,0,0,0,0,0,0,0,0,0,0,0,...</td>\n",
              "    </tr>\n",
              "  </tbody>\n",
              "</table>\n",
              "</div>\n",
              "    <div class=\"colab-df-buttons\">\n",
              "\n",
              "  <div class=\"colab-df-container\">\n",
              "    <button class=\"colab-df-convert\" onclick=\"convertToInteractive('df-40fd353f-c3da-4226-97c9-578357b013f6')\"\n",
              "            title=\"Convert this dataframe to an interactive table.\"\n",
              "            style=\"display:none;\">\n",
              "\n",
              "  <svg xmlns=\"http://www.w3.org/2000/svg\" height=\"24px\" viewBox=\"0 -960 960 960\">\n",
              "    <path d=\"M120-120v-720h720v720H120Zm60-500h600v-160H180v160Zm220 220h160v-160H400v160Zm0 220h160v-160H400v160ZM180-400h160v-160H180v160Zm440 0h160v-160H620v160ZM180-180h160v-160H180v160Zm440 0h160v-160H620v160Z\"/>\n",
              "  </svg>\n",
              "    </button>\n",
              "\n",
              "  <style>\n",
              "    .colab-df-container {\n",
              "      display:flex;\n",
              "      gap: 12px;\n",
              "    }\n",
              "\n",
              "    .colab-df-convert {\n",
              "      background-color: #E8F0FE;\n",
              "      border: none;\n",
              "      border-radius: 50%;\n",
              "      cursor: pointer;\n",
              "      display: none;\n",
              "      fill: #1967D2;\n",
              "      height: 32px;\n",
              "      padding: 0 0 0 0;\n",
              "      width: 32px;\n",
              "    }\n",
              "\n",
              "    .colab-df-convert:hover {\n",
              "      background-color: #E2EBFA;\n",
              "      box-shadow: 0px 1px 2px rgba(60, 64, 67, 0.3), 0px 1px 3px 1px rgba(60, 64, 67, 0.15);\n",
              "      fill: #174EA6;\n",
              "    }\n",
              "\n",
              "    .colab-df-buttons div {\n",
              "      margin-bottom: 4px;\n",
              "    }\n",
              "\n",
              "    [theme=dark] .colab-df-convert {\n",
              "      background-color: #3B4455;\n",
              "      fill: #D2E3FC;\n",
              "    }\n",
              "\n",
              "    [theme=dark] .colab-df-convert:hover {\n",
              "      background-color: #434B5C;\n",
              "      box-shadow: 0px 1px 3px 1px rgba(0, 0, 0, 0.15);\n",
              "      filter: drop-shadow(0px 1px 2px rgba(0, 0, 0, 0.3));\n",
              "      fill: #FFFFFF;\n",
              "    }\n",
              "  </style>\n",
              "\n",
              "    <script>\n",
              "      const buttonEl =\n",
              "        document.querySelector('#df-40fd353f-c3da-4226-97c9-578357b013f6 button.colab-df-convert');\n",
              "      buttonEl.style.display =\n",
              "        google.colab.kernel.accessAllowed ? 'block' : 'none';\n",
              "\n",
              "      async function convertToInteractive(key) {\n",
              "        const element = document.querySelector('#df-40fd353f-c3da-4226-97c9-578357b013f6');\n",
              "        const dataTable =\n",
              "          await google.colab.kernel.invokeFunction('convertToInteractive',\n",
              "                                                    [key], {});\n",
              "        if (!dataTable) return;\n",
              "\n",
              "        const docLinkHtml = 'Like what you see? Visit the ' +\n",
              "          '<a target=\"_blank\" href=https://colab.research.google.com/notebooks/data_table.ipynb>data table notebook</a>'\n",
              "          + ' to learn more about interactive tables.';\n",
              "        element.innerHTML = '';\n",
              "        dataTable['output_type'] = 'display_data';\n",
              "        await google.colab.output.renderOutput(dataTable, element);\n",
              "        const docLink = document.createElement('div');\n",
              "        docLink.innerHTML = docLinkHtml;\n",
              "        element.appendChild(docLink);\n",
              "      }\n",
              "    </script>\n",
              "  </div>\n",
              "\n",
              "\n",
              "    <div id=\"df-7e2ca038-2438-4030-a8f4-d0cfaca8b9f1\">\n",
              "      <button class=\"colab-df-quickchart\" onclick=\"quickchart('df-7e2ca038-2438-4030-a8f4-d0cfaca8b9f1')\"\n",
              "                title=\"Suggest charts\"\n",
              "                style=\"display:none;\">\n",
              "\n",
              "<svg xmlns=\"http://www.w3.org/2000/svg\" height=\"24px\"viewBox=\"0 0 24 24\"\n",
              "     width=\"24px\">\n",
              "    <g>\n",
              "        <path d=\"M19 3H5c-1.1 0-2 .9-2 2v14c0 1.1.9 2 2 2h14c1.1 0 2-.9 2-2V5c0-1.1-.9-2-2-2zM9 17H7v-7h2v7zm4 0h-2V7h2v10zm4 0h-2v-4h2v4z\"/>\n",
              "    </g>\n",
              "</svg>\n",
              "      </button>\n",
              "\n",
              "<style>\n",
              "  .colab-df-quickchart {\n",
              "      --bg-color: #E8F0FE;\n",
              "      --fill-color: #1967D2;\n",
              "      --hover-bg-color: #E2EBFA;\n",
              "      --hover-fill-color: #174EA6;\n",
              "      --disabled-fill-color: #AAA;\n",
              "      --disabled-bg-color: #DDD;\n",
              "  }\n",
              "\n",
              "  [theme=dark] .colab-df-quickchart {\n",
              "      --bg-color: #3B4455;\n",
              "      --fill-color: #D2E3FC;\n",
              "      --hover-bg-color: #434B5C;\n",
              "      --hover-fill-color: #FFFFFF;\n",
              "      --disabled-bg-color: #3B4455;\n",
              "      --disabled-fill-color: #666;\n",
              "  }\n",
              "\n",
              "  .colab-df-quickchart {\n",
              "    background-color: var(--bg-color);\n",
              "    border: none;\n",
              "    border-radius: 50%;\n",
              "    cursor: pointer;\n",
              "    display: none;\n",
              "    fill: var(--fill-color);\n",
              "    height: 32px;\n",
              "    padding: 0;\n",
              "    width: 32px;\n",
              "  }\n",
              "\n",
              "  .colab-df-quickchart:hover {\n",
              "    background-color: var(--hover-bg-color);\n",
              "    box-shadow: 0 1px 2px rgba(60, 64, 67, 0.3), 0 1px 3px 1px rgba(60, 64, 67, 0.15);\n",
              "    fill: var(--button-hover-fill-color);\n",
              "  }\n",
              "\n",
              "  .colab-df-quickchart-complete:disabled,\n",
              "  .colab-df-quickchart-complete:disabled:hover {\n",
              "    background-color: var(--disabled-bg-color);\n",
              "    fill: var(--disabled-fill-color);\n",
              "    box-shadow: none;\n",
              "  }\n",
              "\n",
              "  .colab-df-spinner {\n",
              "    border: 2px solid var(--fill-color);\n",
              "    border-color: transparent;\n",
              "    border-bottom-color: var(--fill-color);\n",
              "    animation:\n",
              "      spin 1s steps(1) infinite;\n",
              "  }\n",
              "\n",
              "  @keyframes spin {\n",
              "    0% {\n",
              "      border-color: transparent;\n",
              "      border-bottom-color: var(--fill-color);\n",
              "      border-left-color: var(--fill-color);\n",
              "    }\n",
              "    20% {\n",
              "      border-color: transparent;\n",
              "      border-left-color: var(--fill-color);\n",
              "      border-top-color: var(--fill-color);\n",
              "    }\n",
              "    30% {\n",
              "      border-color: transparent;\n",
              "      border-left-color: var(--fill-color);\n",
              "      border-top-color: var(--fill-color);\n",
              "      border-right-color: var(--fill-color);\n",
              "    }\n",
              "    40% {\n",
              "      border-color: transparent;\n",
              "      border-right-color: var(--fill-color);\n",
              "      border-top-color: var(--fill-color);\n",
              "    }\n",
              "    60% {\n",
              "      border-color: transparent;\n",
              "      border-right-color: var(--fill-color);\n",
              "    }\n",
              "    80% {\n",
              "      border-color: transparent;\n",
              "      border-right-color: var(--fill-color);\n",
              "      border-bottom-color: var(--fill-color);\n",
              "    }\n",
              "    90% {\n",
              "      border-color: transparent;\n",
              "      border-bottom-color: var(--fill-color);\n",
              "    }\n",
              "  }\n",
              "</style>\n",
              "\n",
              "      <script>\n",
              "        async function quickchart(key) {\n",
              "          const quickchartButtonEl =\n",
              "            document.querySelector('#' + key + ' button');\n",
              "          quickchartButtonEl.disabled = true;  // To prevent multiple clicks.\n",
              "          quickchartButtonEl.classList.add('colab-df-spinner');\n",
              "          try {\n",
              "            const charts = await google.colab.kernel.invokeFunction(\n",
              "                'suggestCharts', [key], {});\n",
              "          } catch (error) {\n",
              "            console.error('Error during call to suggestCharts:', error);\n",
              "          }\n",
              "          quickchartButtonEl.classList.remove('colab-df-spinner');\n",
              "          quickchartButtonEl.classList.add('colab-df-quickchart-complete');\n",
              "        }\n",
              "        (() => {\n",
              "          let quickchartButtonEl =\n",
              "            document.querySelector('#df-7e2ca038-2438-4030-a8f4-d0cfaca8b9f1 button');\n",
              "          quickchartButtonEl.style.display =\n",
              "            google.colab.kernel.accessAllowed ? 'block' : 'none';\n",
              "        })();\n",
              "      </script>\n",
              "    </div>\n",
              "\n",
              "    </div>\n",
              "  </div>\n"
            ],
            "application/vnd.google.colaboratory.intrinsic+json": {
              "type": "dataframe",
              "summary": "{\n  \"name\": \"pd\",\n  \"rows\": 5,\n  \"fields\": [\n    {\n      \"column\": \"7,0,0,0,0,0,0,0,0,0,0,0,0,0,0,0,0,0,0,0,0,0,0,0,0,0,0,0,0,0,0,0,0,0,0,0,0,0,0,0,0,0,0,0,0,0,0,0,0,0,0,0,0,0,0,0,0,0,0,0,0,0,0,0,0,0,0,0,0,0,0,0,0,0,0,0,0,0,0,0,0,0,0,0,0,0,0,0,0,0,0,0,0,0,0,0,0,0,0,0,0,0,0,0,0,0,0,0,0,0,0,0,0,0,0,0,0,0,0,0,0,0,0,0,0,0,0,0,0,0,0,0,0,0,0,0,0,0,0,0,0,0,0,0,0,0,0,0,0,0,0,0,0,0,0,0,0,0,0,0,0,0,0,0,0,0,0,0,0,0,0,0,0,0,0,0,0,0,0,0,0,0,0,0,0,0,0,0,0,0,0,0,0,0,0,0,0,0,0,0,0,0,0,84,185,159,151,60,36,0,0,0,0,0,0,0,0,0,0,0,0,0,0,0,0,0,0,0,0,0,0,222,254,254,254,254,241,198,198,198,198,198,198,198,198,170,52,0,0,0,0,0,0,0,0,0,0,0,0,67,114,72,114,163,227,254,225,254,254,254,250,229,254,254,140,0,0,0,0,0,0,0,0,0,0,0,0,0,0,0,0,0,17,66,14,67,67,67,59,21,236,254,106,0,0,0,0,0,0,0,0,0,0,0,0,0,0,0,0,0,0,0,0,0,0,0,0,83,253,209,18,0,0,0,0,0,0,0,0,0,0,0,0,0,0,0,0,0,0,0,0,0,0,0,22,233,255,83,0,0,0,0,0,0,0,0,0,0,0,0,0,0,0,0,0,0,0,0,0,0,0,0,129,254,238,44,0,0,0,0,0,0,0,0,0,0,0,0,0,0,0,0,0,0,0,0,0,0,0,59,249,254,62,0,0,0,0,0,0,0,0,0,0,0,0,0,0,0,0,0,0,0,0,0,0,0,0,133,254,187,5,0,0,0,0,0,0,0,0,0,0,0,0,0,0,0,0,0,0,0,0,0,0,0,9,205,248,58,0,0,0,0,0,0,0,0,0,0,0,0,0,0,0,0,0,0,0,0,0,0,0,0,126,254,182,0,0,0,0,0,0,0,0,0,0,0,0,0,0,0,0,0,0,0,0,0,0,0,0,75,251,240,57,0,0,0,0,0,0,0,0,0,0,0,0,0,0,0,0,0,0,0,0,0,0,0,19,221,254,166,0,0,0,0,0,0,0,0,0,0,0,0,0,0,0,0,0,0,0,0,0,0,0,3,203,254,219,35,0,0,0,0,0,0,0,0,0,0,0,0,0,0,0,0,0,0,0,0,0,0,0,38,254,254,77,0,0,0,0,0,0,0,0,0,0,0,0,0,0,0,0,0,0,0,0,0,0,0,31,224,254,115,1,0,0,0,0,0,0,0,0,0,0,0,0,0,0,0,0,0,0,0,0,0,0,0,133,254,254,52,0,0,0,0,0,0,0,0,0,0,0,0,0,0,0,0,0,0,0,0,0,0,0,61,242,254,254,52,0,0,0,0,0,0,0,0,0,0,0,0,0,0,0,0,0,0,0,0,0,0,0,121,254,254,219,40,0,0,0,0,0,0,0,0,0,0,0,0,0,0,0,0,0,0,0,0,0,0,0,121,254,207,18,0,0,0,0,0,0,0,0,0,0,0,0,0,0,0,0,0,0,0,0,0,0,0,0,0,0,0,0,0,0,0,0,0,0,0,0,0,0,0,0,0,0\",\n      \"properties\": {\n        \"dtype\": \"string\",\n        \"num_unique_values\": 5,\n        \"samples\": [\n          \"1,0,0,0,0,0,0,0,0,0,0,0,0,0,0,0,0,0,0,0,0,0,0,0,0,0,0,0,0,0,0,0,0,0,0,0,0,0,0,0,0,0,0,0,0,0,0,0,0,0,0,0,0,0,0,0,0,0,0,0,0,0,0,0,0,0,0,0,0,0,0,0,0,0,0,0,0,0,0,0,0,0,0,0,0,0,0,0,0,0,0,0,0,0,0,0,0,0,0,0,0,0,0,0,0,0,0,0,0,0,0,0,0,0,0,0,0,0,0,0,0,0,0,0,0,0,0,0,0,38,254,109,0,0,0,0,0,0,0,0,0,0,0,0,0,0,0,0,0,0,0,0,0,0,0,0,0,87,252,82,0,0,0,0,0,0,0,0,0,0,0,0,0,0,0,0,0,0,0,0,0,0,0,0,0,135,241,0,0,0,0,0,0,0,0,0,0,0,0,0,0,0,0,0,0,0,0,0,0,0,0,0,45,244,150,0,0,0,0,0,0,0,0,0,0,0,0,0,0,0,0,0,0,0,0,0,0,0,0,0,84,254,63,0,0,0,0,0,0,0,0,0,0,0,0,0,0,0,0,0,0,0,0,0,0,0,0,0,202,223,11,0,0,0,0,0,0,0,0,0,0,0,0,0,0,0,0,0,0,0,0,0,0,0,0,32,254,216,0,0,0,0,0,0,0,0,0,0,0,0,0,0,0,0,0,0,0,0,0,0,0,0,0,95,254,195,0,0,0,0,0,0,0,0,0,0,0,0,0,0,0,0,0,0,0,0,0,0,0,0,0,140,254,77,0,0,0,0,0,0,0,0,0,0,0,0,0,0,0,0,0,0,0,0,0,0,0,0,57,237,205,8,0,0,0,0,0,0,0,0,0,0,0,0,0,0,0,0,0,0,0,0,0,0,0,0,124,255,165,0,0,0,0,0,0,0,0,0,0,0,0,0,0,0,0,0,0,0,0,0,0,0,0,0,171,254,81,0,0,0,0,0,0,0,0,0,0,0,0,0,0,0,0,0,0,0,0,0,0,0,0,24,232,215,0,0,0,0,0,0,0,0,0,0,0,0,0,0,0,0,0,0,0,0,0,0,0,0,0,120,254,159,0,0,0,0,0,0,0,0,0,0,0,0,0,0,0,0,0,0,0,0,0,0,0,0,0,151,254,142,0,0,0,0,0,0,0,0,0,0,0,0,0,0,0,0,0,0,0,0,0,0,0,0,0,228,254,66,0,0,0,0,0,0,0,0,0,0,0,0,0,0,0,0,0,0,0,0,0,0,0,0,61,251,254,66,0,0,0,0,0,0,0,0,0,0,0,0,0,0,0,0,0,0,0,0,0,0,0,0,141,254,205,3,0,0,0,0,0,0,0,0,0,0,0,0,0,0,0,0,0,0,0,0,0,0,0,10,215,254,121,0,0,0,0,0,0,0,0,0,0,0,0,0,0,0,0,0,0,0,0,0,0,0,0,5,198,176,10,0,0,0,0,0,0,0,0,0,0,0,0,0,0,0,0,0,0,0,0,0,0,0,0,0,0,0,0,0,0,0,0,0,0,0,0,0,0,0,0,0,0,0,0,0,0,0,0,0,0,0,0,0,0,0,0,0,0,0,0,0,0,0,0,0,0,0,0,0,0,0,0,0,0,0,0,0,0,0,0,0,0,0,0,0,0,0,0,0,0,0,0,0,0,0,0,0,0,0,0,0,0,0,0,0,0,0,0,0,0,0,0,0,0,0,0,0,0,0,0,0,0,0,0,0,0\",\n          \"1,0,0,0,0,0,0,0,0,0,0,0,0,0,0,0,0,0,0,0,0,0,0,0,0,0,0,0,0,0,0,0,0,0,0,0,0,0,0,0,0,0,0,0,0,0,0,0,0,0,0,0,0,0,0,0,0,0,0,0,0,0,0,0,0,0,0,0,0,0,0,0,0,0,0,0,0,0,0,0,0,0,0,0,0,0,0,0,0,0,0,0,0,0,0,0,0,0,0,0,0,0,0,0,0,0,0,0,0,0,0,0,0,0,0,0,0,0,0,0,0,0,0,0,0,0,0,0,0,0,0,0,0,0,0,0,0,0,0,0,0,0,0,0,0,0,0,0,0,0,0,0,0,0,0,0,0,77,254,107,3,0,0,0,0,0,0,0,0,0,0,0,0,0,0,0,0,0,0,0,0,0,0,0,19,227,254,254,9,0,0,0,0,0,0,0,0,0,0,0,0,0,0,0,0,0,0,0,0,0,0,0,81,254,254,165,1,0,0,0,0,0,0,0,0,0,0,0,0,0,0,0,0,0,0,0,0,0,0,7,203,254,254,73,0,0,0,0,0,0,0,0,0,0,0,0,0,0,0,0,0,0,0,0,0,0,0,53,254,254,250,0,0,0,0,0,0,0,0,0,0,0,0,0,0,0,0,0,0,0,0,0,0,0,0,134,254,254,180,0,0,0,0,0,0,0,0,0,0,0,0,0,0,0,0,0,0,0,0,0,0,0,0,196,254,248,48,0,0,0,0,0,0,0,0,0,0,0,0,0,0,0,0,0,0,0,0,0,0,0,58,254,254,237,0,0,0,0,0,0,0,0,0,0,0,0,0,0,0,0,0,0,0,0,0,0,0,0,111,254,254,132,0,0,0,0,0,0,0,0,0,0,0,0,0,0,0,0,0,0,0,0,0,0,0,0,163,254,238,28,0,0,0,0,0,0,0,0,0,0,0,0,0,0,0,0,0,0,0,0,0,0,0,60,252,254,223,0,0,0,0,0,0,0,0,0,0,0,0,0,0,0,0,0,0,0,0,0,0,0,0,79,254,254,154,0,0,0,0,0,0,0,0,0,0,0,0,0,0,0,0,0,0,0,0,0,0,0,0,163,254,238,53,0,0,0,0,0,0,0,0,0,0,0,0,0,0,0,0,0,0,0,0,0,0,0,28,252,254,210,0,0,0,0,0,0,0,0,0,0,0,0,0,0,0,0,0,0,0,0,0,0,0,0,86,254,254,131,0,0,0,0,0,0,0,0,0,0,0,0,0,0,0,0,0,0,0,0,0,0,0,0,105,254,234,20,0,0,0,0,0,0,0,0,0,0,0,0,0,0,0,0,0,0,0,0,0,0,0,0,175,254,204,5,0,0,0,0,0,0,0,0,0,0,0,0,0,0,0,0,0,0,0,0,0,0,0,5,211,254,196,0,0,0,0,0,0,0,0,0,0,0,0,0,0,0,0,0,0,0,0,0,0,0,0,3,158,254,160,0,0,0,0,0,0,0,0,0,0,0,0,0,0,0,0,0,0,0,0,0,0,0,0,0,26,157,107,0,0,0,0,0,0,0,0,0,0,0,0,0,0,0,0,0,0,0,0,0,0,0,0,0,0,0,0,0,0,0,0,0,0,0,0,0,0,0,0,0,0,0,0,0,0,0,0,0,0,0,0,0,0,0,0,0,0,0,0,0,0,0,0,0,0,0,0,0,0,0,0,0,0,0,0,0,0,0,0,0,0,0,0,0,0,0,0,0,0,0,0,0,0,0,0,0,0\",\n          \"0,0,0,0,0,0,0,0,0,0,0,0,0,0,0,0,0,0,0,0,0,0,0,0,0,0,0,0,0,0,0,0,0,0,0,0,0,0,0,0,0,0,0,0,0,0,0,0,0,0,0,0,0,0,0,0,0,0,0,0,0,0,0,0,0,0,0,0,0,0,0,0,0,0,0,0,0,0,0,0,0,0,0,0,0,0,0,0,0,0,0,0,0,0,0,0,0,0,0,0,0,0,0,0,0,0,0,0,0,0,0,0,0,0,0,0,0,0,0,0,0,0,0,0,0,11,150,253,202,31,0,0,0,0,0,0,0,0,0,0,0,0,0,0,0,0,0,0,0,0,0,0,0,37,251,251,253,107,0,0,0,0,0,0,0,0,0,0,0,0,0,0,0,0,0,0,0,0,0,0,21,197,251,251,253,107,0,0,0,0,0,0,0,0,0,0,0,0,0,0,0,0,0,0,0,0,0,110,190,251,251,251,253,169,109,62,0,0,0,0,0,0,0,0,0,0,0,0,0,0,0,0,0,0,0,253,251,251,251,251,253,251,251,220,51,0,0,0,0,0,0,0,0,0,0,0,0,0,0,0,0,0,182,255,253,253,253,253,234,222,253,253,253,0,0,0,0,0,0,0,0,0,0,0,0,0,0,0,0,63,221,253,251,251,251,147,77,62,128,251,251,105,0,0,0,0,0,0,0,0,0,0,0,0,0,0,32,231,251,253,251,220,137,10,0,0,31,230,251,243,113,5,0,0,0,0,0,0,0,0,0,0,0,0,37,251,251,253,188,20,0,0,0,0,0,109,251,253,251,35,0,0,0,0,0,0,0,0,0,0,0,0,37,251,251,201,30,0,0,0,0,0,0,31,200,253,251,35,0,0,0,0,0,0,0,0,0,0,0,0,37,253,253,0,0,0,0,0,0,0,0,32,202,255,253,164,0,0,0,0,0,0,0,0,0,0,0,0,140,251,251,0,0,0,0,0,0,0,0,109,251,253,251,35,0,0,0,0,0,0,0,0,0,0,0,0,217,251,251,0,0,0,0,0,0,21,63,231,251,253,230,30,0,0,0,0,0,0,0,0,0,0,0,0,217,251,251,0,0,0,0,0,0,144,251,251,251,221,61,0,0,0,0,0,0,0,0,0,0,0,0,0,217,251,251,0,0,0,0,0,182,221,251,251,251,180,0,0,0,0,0,0,0,0,0,0,0,0,0,0,218,253,253,73,73,228,253,253,255,253,253,253,253,0,0,0,0,0,0,0,0,0,0,0,0,0,0,0,113,251,251,253,251,251,251,251,253,251,251,251,147,0,0,0,0,0,0,0,0,0,0,0,0,0,0,0,31,230,251,253,251,251,251,251,253,230,189,35,10,0,0,0,0,0,0,0,0,0,0,0,0,0,0,0,0,62,142,253,251,251,251,251,253,107,0,0,0,0,0,0,0,0,0,0,0,0,0,0,0,0,0,0,0,0,0,72,174,251,173,71,72,30,0,0,0,0,0,0,0,0,0,0,0,0,0,0,0,0,0,0,0,0,0,0,0,0,0,0,0,0,0,0,0,0,0,0,0,0,0,0,0,0,0,0,0,0,0,0,0,0,0,0,0,0,0,0,0,0,0,0,0,0,0,0,0,0,0,0,0,0,0,0,0,0,0,0,0,0,0,0,0,0,0,0,0,0,0,0,0,0,0,0,0,0,0,0,0,0,0,0,0,0,0,0,0,0,0,0,0,0,0,0,0,0,0,0,0,0,0,0,0,0,0,0,0\"\n        ],\n        \"semantic_type\": \"\",\n        \"description\": \"\"\n      }\n    }\n  ]\n}"
            }
          },
          "metadata": {},
          "execution_count": 9
        }
      ]
    },
    {
      "cell_type": "markdown",
      "source": [],
      "metadata": {
        "id": "gpDMS5aoiuyv"
      }
    },
    {
      "cell_type": "markdown",
      "source": [
        "# GOOGLE DRIVE"
      ],
      "metadata": {
        "id": "k7XL7TMEh7zL"
      }
    },
    {
      "cell_type": "code",
      "source": [
        "from google.colab import drive\n",
        "drive.mount('/content/drive')"
      ],
      "metadata": {
        "colab": {
          "base_uri": "https://localhost:8080/"
        },
        "id": "0eUchLWgh2QS",
        "outputId": "b051d01f-d389-422a-bf57-6a05ddda5daa"
      },
      "execution_count": null,
      "outputs": [
        {
          "output_type": "stream",
          "name": "stdout",
          "text": [
            "Drive already mounted at /content/drive; to attempt to forcibly remount, call drive.mount(\"/content/drive\", force_remount=True).\n"
          ]
        }
      ]
    },
    {
      "cell_type": "markdown",
      "source": [
        "# Github"
      ],
      "metadata": {
        "id": "q_ygMlUliTyI"
      }
    },
    {
      "cell_type": "code",
      "source": [
        "!git clone ... git link"
      ],
      "metadata": {
        "id": "Rmb-EpCuiAip"
      },
      "execution_count": null,
      "outputs": []
    },
    {
      "cell_type": "markdown",
      "source": [
        "# This is heading\n",
        "## This is heading\n",
        "### This *is* **heading**\n",
        "\n",
        "\n",
        "\n",
        "```\n",
        "this is a code formatted\n",
        "```\n",
        "[Google Link](https://google.com)\n",
        "\n",
        "List:\n",
        "1.   List item\n",
        "2.   List item\n",
        "\n",
        "*   List item\n",
        "*   List item\n",
        "\n"
      ],
      "metadata": {
        "id": "ibitZ45Div1a"
      }
    },
    {
      "cell_type": "markdown",
      "source": [
        "\n",
        "Math:\n",
        "\n",
        "$ ax^2 + by + c = 0 $\n",
        "\n",
        "$ x1 = \\frac{-b + \\sqrt{b^2 - 4ac}}{4ac} $\n",
        "$$ x1 = \\frac{-b + \\sqrt{b^2 - 4ac}}{4ac} $$"
      ],
      "metadata": {
        "id": "_8VSveIAj7Z2"
      }
    },
    {
      "cell_type": "markdown",
      "source": [
        "# system Level Command from colab"
      ],
      "metadata": {
        "id": "10Q_ofm1kReV"
      }
    },
    {
      "cell_type": "code",
      "source": [
        "!ls /bin"
      ],
      "metadata": {
        "colab": {
          "base_uri": "https://localhost:8080/"
        },
        "id": "RSeP9-ABjJAm",
        "outputId": "783d0e2a-a475-4b27-a32b-0238a2900f50"
      },
      "execution_count": null,
      "outputs": [
        {
          "output_type": "stream",
          "name": "stdout",
          "text": [
            "'['\t\t\t\t      migrate-pubring-from-classic-gpg\n",
            " 7z\t\t\t\t      mingle\n",
            " 7za\t\t\t\t      mispipe\n",
            " 7zr\t\t\t\t      mkdir\n",
            " aclocal\t\t\t      mkfifo\n",
            " aclocal-1.16\t\t\t      mknod\n",
            " acyclic\t\t\t      mktemp\n",
            " add-apt-repository\t\t      mm2gv\n",
            " addpart\t\t\t      more\n",
            " addr2line\t\t\t      mount\n",
            " aggregate_profile\t\t      mountpoint\n",
            " ambiguous_words\t\t      mpexpand\n",
            " apropos\t\t\t      mpic++\n",
            " apt\t\t\t\t      mpicc\n",
            " apt-add-repository\t\t      mpiCC\n",
            " apt-cache\t\t\t      mpicc.openmpi\n",
            " apt-cdrom\t\t\t      mpiCC.openmpi\n",
            " apt-config\t\t\t      mpic++.openmpi\n",
            " apt-extracttemplates\t\t      mpicxx\n",
            " apt-ftparchive\t\t\t      mpicxx.openmpi\n",
            " apt-get\t\t\t      mpiexec\n",
            " apt-key\t\t\t      mpiexec.openmpi\n",
            " apt-mark\t\t\t      mpif77\n",
            " apt-sortpkgs\t\t\t      mpif77.openmpi\n",
            " ar\t\t\t\t      mpif90\n",
            " arch\t\t\t\t      mpif90.openmpi\n",
            " as\t\t\t\t      mpifort\n",
            " asan_symbolize\t\t\t      mpifort.openmpi\n",
            " asan_symbolize-14\t\t      mpijavac\n",
            " autoconf\t\t\t      mpijavac.pl\n",
            " autoheader\t\t\t      mpirun\n",
            " autom4te\t\t\t      mpirun.openmpi\n",
            " automake\t\t\t      mv\n",
            " automake-1.16\t\t\t      mysql_config\n",
            " autoreconf\t\t\t      namei\n",
            " autoscan\t\t\t      nawk\n",
            " autoupdate\t\t\t      nc-config\n",
            " awk\t\t\t\t      ncurses5-config\n",
            " b2\t\t\t\t      ncurses6-config\n",
            " b2sum\t\t\t\t      ncursesw5-config\n",
            " base32\t\t\t\t      ncursesw6-config\n",
            " base64\t\t\t\t      neato\n",
            " basename\t\t\t      neqn\n",
            " basenc\t\t\t\t      netstat\n",
            " bash\t\t\t\t      networkctl\n",
            " bashbug\t\t\t      newgrp\n",
            " bc\t\t\t\t      nice\n",
            " bcomps\t\t\t\t      nisdomainname\n",
            " bcp\t\t\t\t      nl\n",
            " bjam\t\t\t\t      nm\n",
            " bootctl\t\t\t      nns\n",
            " browse\t\t\t\t      nnsd\n",
            " bunzip2\t\t\t      nnslog\n",
            " busctl\t\t\t\t      nohup\n",
            " bzcat\t\t\t\t      nop\n",
            " bzcmp\t\t\t\t      nproc\n",
            " bzdiff\t\t\t\t      nroff\n",
            " bzegrep\t\t\t      nsenter\n",
            " bzexe\t\t\t\t      nslookup\n",
            " bzfgrep\t\t\t      nstat\n",
            " bzgrep\t\t\t\t      nsupdate\n",
            " bzip2\t\t\t\t      numfmt\n",
            " bzip2recover\t\t\t      objcopy\n",
            " bzless\t\t\t\t      objdump\n",
            " bzmore\t\t\t\t      od\n",
            " c++\t\t\t\t      ogdi-config\n",
            " c89\t\t\t\t      ompi-clean\n",
            " c89-gcc\t\t\t      ompi_info\n",
            " c99\t\t\t\t      ompi-server\n",
            " c99-gcc\t\t\t      opalc++\n",
            " captoinfo\t\t\t      opalcc\n",
            " cat\t\t\t\t      opal_wrapper\n",
            " catman\t\t\t\t      open\n",
            " cautious-launcher\t\t      opencv_annotation\n",
            " cc\t\t\t\t      opencv_interactive-calibration\n",
            " ccomps\t\t\t\t      opencv_model_diagnostics\n",
            " c++filt\t\t\t      opencv_version\n",
            " chage\t\t\t\t      opencv_visualisation\n",
            " chattr\t\t\t\t      opencv_waldboost_detector\n",
            " chcon\t\t\t\t      openssl\n",
            " chfn\t\t\t\t      ortecc\n",
            " chgrp\t\t\t\t      orte-clean\n",
            " chmod\t\t\t\t      orted\n",
            " choom\t\t\t\t      orte-info\n",
            " chown\t\t\t\t      orterun\n",
            " chronic\t\t\t      orte-server\n",
            " chrt\t\t\t\t      osage\n",
            " chsh\t\t\t\t      oshc++\n",
            " circo\t\t\t\t      oshcc\n",
            " cksum\t\t\t\t      oshCC\n",
            " clang\t\t\t\t      oshcxx\n",
            " clang++\t\t\t      oshfort\n",
            " clang++-14\t\t\t      oshmem_info\n",
            " clang-14\t\t\t      oshrun\n",
            " clang-cpp-14\t\t\t      p7zip\n",
            " classifier_tester\t\t      pack200\n",
            " clear\t\t\t\t      page\n",
            " clear_console\t\t\t      pager\n",
            " clinfo\t\t\t\t      paperconf\n",
            " cluster\t\t\t      parallel\n",
            " cmake\t\t\t\t      partx\n",
            " cmp\t\t\t\t      passwd\n",
            " cntraining\t\t\t      paste\n",
            " col\t\t\t\t      patch\n",
            " colcrt\t\t\t\t      patchwork\n",
            " colrm\t\t\t\t      pathchk\n",
            " column\t\t\t\t      pcre2-config\n",
            " combine\t\t\t      pcre-config\n",
            " combine_lang_model\t\t      pdb3\n",
            " combine_tessdata\t\t      pdb3.10\n",
            " comm\t\t\t\t      pdb3.11\n",
            " compile_et\t\t\t      pee\n",
            " compose\t\t\t      peekfd\n",
            " corelist\t\t\t      perl\n",
            " cp\t\t\t\t      perl5.34.0\n",
            " cpack\t\t\t\t      perl5.34-x86_64-linux-gnu\n",
            " cpan\t\t\t\t      perlbug\n",
            " cpan5.34-x86_64-linux-gnu\t      perldoc\n",
            " cpp\t\t\t\t      perlivp\n",
            " cpp-11\t\t\t\t      perlthanks\n",
            " c_rehash\t\t\t      pg_config\n",
            " csplit\t\t\t\t      pgrep\n",
            " ctest\t\t\t\t      pic\n",
            " ctstat\t\t\t\t      piconv\n",
            " curl\t\t\t\t      pidof\n",
            " curl-config\t\t\t      pidwait\n",
            " cut\t\t\t\t      pigz\n",
            " cvtsudoers\t\t\t      pinentry\n",
            " dash\t\t\t\t      pinentry-curses\n",
            " date\t\t\t\t      pinky\n",
            " dawg2wordlist\t\t\t      pkaction\n",
            " dbus-cleanup-sockets\t\t      pkcheck\n",
            " dbus-daemon\t\t\t      pkexec\n",
            " dbus-monitor\t\t\t      pkgconf\n",
            " dbus-run-session\t\t      pkg-config\n",
            " dbus-send\t\t\t      pkgdata\n",
            " dbus-update-activation-environment   pkill\n",
            " dbus-uuidgen\t\t\t      pkttyagent\n",
            " dd\t\t\t\t      pl2pm\n",
            " debconf\t\t\t      pldd\n",
            " debconf-apt-progress\t\t      pmap\n",
            " debconf-communicate\t\t      pod2html\n",
            " debconf-copydb\t\t\t      pod2man\n",
            " debconf-escape\t\t\t      pod2text\n",
            " debconf-set-selections\t\t      pod2usage\n",
            " debconf-show\t\t\t      podchecker\n",
            " deb-systemd-helper\t\t      pprof-symbolize\n",
            " deb-systemd-invoke\t\t      pr\n",
            " delpart\t\t\t      preconv\n",
            " delv\t\t\t\t      prename\n",
            " derb\t\t\t\t      print\n",
            " df\t\t\t\t      printenv\n",
            " dh_autotools-dev_restoreconfig       printf\n",
            " dh_autotools-dev_updateconfig\t      prlimit\n",
            " dh_girepository\t\t      procan\n",
            " diff\t\t\t\t      profile2mat\n",
            " diff3\t\t\t\t      protoc\n",
            " diffimg\t\t\t      prove\n",
            " dig\t\t\t\t      prtstat\n",
            " dijkstra\t\t\t      prune\n",
            " dir\t\t\t\t      ps\n",
            " dircolors\t\t\t      pslog\n",
            " dirmngr\t\t\t      pstree\n",
            " dirmngr-client\t\t\t      pstree.x11\n",
            " dirname\t\t\t      pt\n",
            " dmesg\t\t\t\t      ptar\n",
            " dnsdomainname\t\t\t      ptardiff\n",
            " domainname\t\t\t      ptargrep\n",
            " dot\t\t\t\t      ptx\n",
            " dot2gxl\t\t\t      pwd\n",
            " dot_builtins\t\t\t      pwdx\n",
            " dotty\t\t\t\t      py3clean\n",
            " dpkg\t\t\t\t      py3compile\n",
            " dpkg-architecture\t\t      py3versions\n",
            " dpkg-buildflags\t\t      pydoc3\n",
            " dpkg-buildpackage\t\t      pydoc3.10\n",
            " dpkg-checkbuilddeps\t\t      pydoc3.11\n",
            " dpkg-deb\t\t\t      pygettext3\n",
            " dpkg-distaddfile\t\t      pygettext3.10\n",
            " dpkg-divert\t\t\t      pygettext3.11\n",
            " dpkg-genbuildinfo\t\t      python3\n",
            " dpkg-genchanges\t\t      python3.10\n",
            " dpkg-gencontrol\t\t      python3.10-config\n",
            " dpkg-gensymbols\t\t      python3.11\n",
            " dpkg-maintscript-helper\t      python3.11-config\n",
            " dpkg-mergechangelogs\t\t      python3-config\n",
            " dpkg-name\t\t\t      qt-faststart\n",
            " dpkg-parsechangelog\t\t      quickbook\n",
            " dpkg-query\t\t\t      R\n",
            " dpkg-realpath\t\t\t      ranlib\n",
            " dpkg-scanpackages\t\t      rbash\n",
            " dpkg-scansources\t\t      rcp\n",
            " dpkg-shlibdeps\t\t\t      rdma\n",
            " dpkg-source\t\t\t      readelf\n",
            " dpkg-split\t\t\t      readlink\n",
            " dpkg-statoverride\t\t      realpath\n",
            " dpkg-trigger\t\t\t      rename\n",
            " dpkg-vendor\t\t\t      renice\n",
            " dtplite\t\t\t      reset\n",
            " du\t\t\t\t      resizepart\n",
            " dwp\t\t\t\t      resolvectl\n",
            " echo\t\t\t\t      rev\n",
            " edgepaint\t\t\t      rg\n",
            " edit\t\t\t\t      rgrep\n",
            " editor\t\t\t\t      rlogin\n",
            " egrep\t\t\t\t      rm\n",
            " elfedit\t\t\t      rmdir\n",
            " enc2xs\t\t\t\t      rmic\n",
            " encguess\t\t\t      rmid\n",
            " env\t\t\t\t      rmiregistry\n",
            " eqn\t\t\t\t      routef\n",
            " errno\t\t\t\t      routel\n",
            " ex\t\t\t\t      rpcgen\n",
            " expand\t\t\t\t      rrsync\n",
            " expiry\t\t\t\t      Rscript\n",
            " expr\t\t\t\t      rsh\n",
            " f77\t\t\t\t      rsync\n",
            " f95\t\t\t\t      rsync-ssl\n",
            " factor\t\t\t\t      rtstat\n",
            " faillog\t\t\t      runcon\n",
            " fallocate\t\t\t      run-mailcap\n",
            " false\t\t\t\t      run-parts\n",
            " fc-cache\t\t\t      rview\n",
            " fc-cat\t\t\t\t      rvim\n",
            " fc-conflist\t\t\t      savelog\n",
            " fc-list\t\t\t      sccmap\n",
            " fc-match\t\t\t      scp\n",
            " fc-pattern\t\t\t      script\n",
            " fc-query\t\t\t      scriptlive\n",
            " fc-scan\t\t\t      scriptreplay\n",
            " fc-validate\t\t\t      sdiff\n",
            " fdp\t\t\t\t      sed\n",
            " ffmpeg\t\t\t\t      see\n",
            " ffplay\t\t\t\t      select-editor\n",
            " ffprobe\t\t\t      sensible-browser\n",
            " fgrep\t\t\t\t      sensible-editor\n",
            " filan\t\t\t\t      sensible-pager\n",
            " file\t\t\t\t      seq\n",
            " file-rename\t\t\t      serialver\n",
            " fincore\t\t\t      setarch\n",
            " find\t\t\t\t      setpriv\n",
            " findmnt\t\t\t      setsid\n",
            " fio\t\t\t\t      setterm\n",
            " fio2gnuplot\t\t\t      set_unicharset_properties\n",
            " fio-btrace2fio\t\t\t      setxkbmap\n",
            " fio-dedupe\t\t\t      sfdp\n",
            " fio_generate_plots\t\t      sftp\n",
            " fio-genzipf\t\t\t      sg\n",
            " fio_jsonplus_clat2csv\t\t      sh\n",
            " fio-verify-state\t\t      sha1sum\n",
            " flock\t\t\t\t      sha224sum\n",
            " fmt\t\t\t\t      sha256sum\n",
            " fold\t\t\t\t      sha384sum\n",
            " free\t\t\t\t      sha512sum\n",
            " funzip\t\t\t\t      shapeclustering\n",
            " fuser\t\t\t\t      shasum\n",
            " fusermount\t\t\t      shmemc++\n",
            " g++\t\t\t\t      shmemcc\n",
            " g++-11\t\t\t\t      shmemCC\n",
            " gapplication\t\t\t      shmemcxx\n",
            " gc\t\t\t\t      shmemfort\n",
            " gcc\t\t\t\t      shmemrun\n",
            " gcc-11\t\t\t\t      shred\n",
            " gcc-ar\t\t\t\t      shuf\n",
            " gcc-ar-11\t\t\t      size\n",
            " gcc-nm\t\t\t\t      skill\n",
            " gcc-nm-11\t\t\t      slabtop\n",
            " gcc-ranlib\t\t\t      sleep\n",
            " gcc-ranlib-11\t\t\t      slogin\n",
            " gcov\t\t\t\t      snice\n",
            " gcov-11\t\t\t      socat\n",
            " gcov-dump\t\t\t      soelim\n",
            " gcov-dump-11\t\t\t      sort\n",
            " gcov-tool\t\t\t      splain\n",
            " gcov-tool-11\t\t\t      split\n",
            " gdal-config\t\t\t      sponge\n",
            " gdbus\t\t\t\t      ss\n",
            " gdbus-codegen\t\t\t      ssh\n",
            " genbrk\t\t\t\t      ssh-add\n",
            " gencat\t\t\t\t      ssh-agent\n",
            " gencfu\t\t\t\t      ssh-argv0\n",
            " gencnval\t\t\t      ssh-copy-id\n",
            " gendict\t\t\t      ssh-keygen\n",
            " genfio\t\t\t\t      ssh-keyscan\n",
            " genrb\t\t\t\t      stat\n",
            " geos-config\t\t\t      stdbuf\n",
            " geqn\t\t\t\t      streamzip\n",
            " getconf\t\t\t      strings\n",
            " getent\t\t\t\t      strip\n",
            " getopt\t\t\t\t      stty\n",
            " gfortran\t\t\t      su\n",
            " gfortran-11\t\t\t      sudo\n",
            " gh\t\t\t\t      sudoedit\n",
            " gio\t\t\t\t      sudoreplay\n",
            " gio-querymodules\t\t      sum\n",
            " g-ir-annotation-tool\t\t      sync\n",
            " g-ir-compiler\t\t\t      systemctl\n",
            " g-ir-doc-tool\t\t\t      systemd\n",
            " g-ir-generate\t\t\t      systemd-analyze\n",
            " g-ir-inspect\t\t\t      systemd-ask-password\n",
            " g-ir-scanner\t\t\t      systemd-cat\n",
            " git\t\t\t\t      systemd-cgls\n",
            " git-lfs\t\t\t      systemd-cgtop\n",
            " git-receive-pack\t\t      systemd-cryptenroll\n",
            " git-shell\t\t\t      systemd-delta\n",
            " git-upload-archive\t\t      systemd-detect-virt\n",
            " git-upload-pack\t\t      systemd-escape\n",
            " glib-compile-resources\t\t      systemd-id128\n",
            " glib-compile-schemas\t\t      systemd-inhibit\n",
            " glib-genmarshal\t\t      systemd-machine-id-setup\n",
            " glib-gettextize\t\t      systemd-mount\n",
            " glib-mkenums\t\t\t      systemd-notify\n",
            " gmake\t\t\t\t      systemd-path\n",
            " gml2gv\t\t\t\t      systemd-run\n",
            " gobject-query\t\t\t      systemd-socket-activate\n",
            " gold\t\t\t\t      systemd-stdio-bridge\n",
            " google-pprof\t\t\t      systemd-sysext\n",
            " gpasswd\t\t\t      systemd-sysusers\n",
            " gpg\t\t\t\t      systemd-tmpfiles\n",
            " gpg2\t\t\t\t      systemd-tty-ask-password-agent\n",
            " gpg-agent\t\t\t      systemd-umount\n",
            " gpgcompose\t\t\t      tabs\n",
            " gpgconf\t\t\t      tac\n",
            " gpg-connect-agent\t\t      tail\n",
            " gpgparsemail\t\t\t      tar\n",
            " gpgsm\t\t\t\t      taskset\n",
            " gpgsplit\t\t\t      tbl\n",
            " gpgtar\t\t\t\t      tcldocstrip\n",
            " gpgv\t\t\t\t      tclsh\n",
            " gpg-wks-server\t\t\t      tclsh8.6\n",
            " gpg-zip\t\t\t      tcltk-depends\n",
            " gpic\t\t\t\t      tee\n",
            " gprof\t\t\t\t      tempfile\n",
            " graphml2gv\t\t\t      tesseract\n",
            " grep\t\t\t\t      test\n",
            " gresource\t\t\t      text2image\n",
            " groff\t\t\t\t      tic\n",
            " grog\t\t\t\t      timedatectl\n",
            " grops\t\t\t\t      timeout\n",
            " grotty\t\t\t\t      tload\n",
            " groups\t\t\t\t      tmux\n",
            " gsettings\t\t\t      toe\n",
            " gtbl\t\t\t\t      top\n",
            " gtester\t\t\t      touch\n",
            " gtester-report\t\t\t      tput\n",
            " gtk-update-icon-cache\t\t      tr\n",
            " gunzip\t\t\t\t      tred\n",
            " gv2gml\t\t\t\t      troff\n",
            " gv2gxl\t\t\t\t      true\n",
            " gvcolor\t\t\t      truncate\n",
            " gvgen\t\t\t\t      ts\n",
            " gvmap\t\t\t\t      tset\n",
            " gvmap.sh\t\t\t      tsort\n",
            " gvpack\t\t\t\t      tty\n",
            " gvpr\t\t\t\t      twopi\n",
            " gxl2dot\t\t\t      tzselect\n",
            " gxl2gv\t\t\t\t      ucf\n",
            " gzexe\t\t\t\t      ucfq\n",
            " gzip\t\t\t\t      ucfr\n",
            " h2ph\t\t\t\t      uclampset\n",
            " h2xs\t\t\t\t      uconv\n",
            " h5c++\t\t\t\t      ul\n",
            " h5cc\t\t\t\t      ulockmgr_server\n",
            " h5fc\t\t\t\t      umount\n",
            " hardlink\t\t\t      uname\n",
            " hd\t\t\t\t      uncompress\n",
            " head\t\t\t\t      unexpand\n",
            " helpztags\t\t\t      unflatten\n",
            " hexdump\t\t\t      unicharset_extractor\n",
            " host\t\t\t\t      uniq\n",
            " hostid\t\t\t\t      unlink\n",
            " hostname\t\t\t      unlzma\n",
            " hostnamectl\t\t\t      unpack200\n",
            " i386\t\t\t\t      unpigz\n",
            " iconv\t\t\t\t      unrar\n",
            " icuexportdata\t\t\t      unrar-nonfree\n",
            " icuinfo\t\t\t      unshare\n",
            " id\t\t\t\t      unxz\n",
            " ifdata\t\t\t\t      unzip\n",
            " ifnames\t\t\t      unzipsfx\n",
            " ifne\t\t\t\t      update-alternatives\n",
            " infocmp\t\t\t      update-mime-database\n",
            " infotocap\t\t\t      uptime\n",
            " inspect\t\t\t      users\n",
            " install\t\t\t      utmpdump\n",
            " instmodsh\t\t\t      vdir\n",
            " ionice\t\t\t\t      vi\n",
            " ip\t\t\t\t      vidir\n",
            " ipcmk\t\t\t\t      view\n",
            " ipcrm\t\t\t\t      vim\n",
            " ipcs\t\t\t\t      vim.basic\n",
            " ischroot\t\t\t      vimdiff\n",
            " isutf8\t\t\t\t      vimdot\n",
            " jaotc\t\t\t\t      vimtutor\n",
            " jar\t\t\t\t      vipe\n",
            " jarsigner\t\t\t      vmstat\n",
            " java\t\t\t\t      w\n",
            " javac\t\t\t\t      wall\n",
            " javadoc\t\t\t      watch\n",
            " javap\t\t\t\t      watchgnupg\n",
            " jcmd\t\t\t\t      wc\n",
            " jdb\t\t\t\t      wdctl\n",
            " jdeprscan\t\t\t      wget\n",
            " jdeps\t\t\t\t      whatis\n",
            " jexec\t\t\t\t      whereis\n",
            " jfr\t\t\t\t      which\n",
            " jhsdb\t\t\t\t      which.debianutils\n",
            " jimage\t\t\t\t      who\n",
            " jinfo\t\t\t\t      whoami\n",
            " jjs\t\t\t\t      wish\n",
            " jlink\t\t\t\t      wish8.6\n",
            " jmap\t\t\t\t      wordlist2dawg\n",
            " jmod\t\t\t\t      write\n",
            " join\t\t\t\t      write.ul\n",
            " journalctl\t\t\t      X11\n",
            " jps\t\t\t\t      x86_64\n",
            " jq\t\t\t\t      x86_64-linux-gnu-addr2line\n",
            " jrunscript\t\t\t      x86_64-linux-gnu-ar\n",
            " jshell\t\t\t\t      x86_64-linux-gnu-as\n",
            " json_pp\t\t\t      x86_64-linux-gnu-c++filt\n",
            " jstack\t\t\t\t      x86_64-linux-gnu-cpp\n",
            " jstat\t\t\t\t      x86_64-linux-gnu-cpp-11\n",
            " jstatd\t\t\t\t      x86_64-linux-gnu-dwp\n",
            " kbxutil\t\t\t      x86_64-linux-gnu-elfedit\n",
            " kernel-install\t\t\t      x86_64-linux-gnu-g++\n",
            " keyring\t\t\t      x86_64-linux-gnu-g++-11\n",
            " keytool\t\t\t      x86_64-linux-gnu-gcc\n",
            " kill\t\t\t\t      x86_64-linux-gnu-gcc-11\n",
            " killall\t\t\t      x86_64-linux-gnu-gcc-ar\n",
            " kmod\t\t\t\t      x86_64-linux-gnu-gcc-ar-11\n",
            " krb5-config\t\t\t      x86_64-linux-gnu-gcc-nm\n",
            " krb5-config.mit\t\t      x86_64-linux-gnu-gcc-nm-11\n",
            " last\t\t\t\t      x86_64-linux-gnu-gcc-ranlib\n",
            " lastb\t\t\t\t      x86_64-linux-gnu-gcc-ranlib-11\n",
            " lastlog\t\t\t      x86_64-linux-gnu-gcov\n",
            " lcf\t\t\t\t      x86_64-linux-gnu-gcov-11\n",
            " lckdo\t\t\t\t      x86_64-linux-gnu-gcov-dump\n",
            " ld\t\t\t\t      x86_64-linux-gnu-gcov-dump-11\n",
            " ld.bfd\t\t\t\t      x86_64-linux-gnu-gcov-tool\n",
            " ldd\t\t\t\t      x86_64-linux-gnu-gcov-tool-11\n",
            " ld.gold\t\t\t      x86_64-linux-gnu-gfortran\n",
            " lefty\t\t\t\t      x86_64-linux-gnu-gfortran-11\n",
            " less\t\t\t\t      x86_64-linux-gnu-gold\n",
            " lessecho\t\t\t      x86_64-linux-gnu-gprof\n",
            " lessfile\t\t\t      x86_64-linux-gnu-ld\n",
            " lesskey\t\t\t      x86_64-linux-gnu-ld.bfd\n",
            " lesspipe\t\t\t      x86_64-linux-gnu-ld.gold\n",
            " lexgrog\t\t\t      x86_64-linux-gnu-lto-dump-11\n",
            " libnetcfg\t\t\t      x86_64-linux-gnu-nm\n",
            " libpng16-config\t\t      x86_64-linux-gnu-objcopy\n",
            " libpng-config\t\t\t      x86_64-linux-gnu-objdump\n",
            " link\t\t\t\t      x86_64-linux-gnu-pkg-config\n",
            " linux32\t\t\t      x86_64-linux-gnu-python3.10-config\n",
            " linux64\t\t\t      x86_64-linux-gnu-python3.11-config\n",
            " ln\t\t\t\t      x86_64-linux-gnu-python3-config\n",
            " lneato\t\t\t\t      x86_64-linux-gnu-ranlib\n",
            " lnstat\t\t\t\t      x86_64-linux-gnu-readelf\n",
            " locale\t\t\t\t      x86_64-linux-gnu-size\n",
            " locale-check\t\t\t      x86_64-linux-gnu-strings\n",
            " localectl\t\t\t      x86_64-linux-gnu-strip\n",
            " localedef\t\t\t      xargs\n",
            " logger\t\t\t\t      xauth\n",
            " login\t\t\t\t      xdg-desktop-icon\n",
            " loginctl\t\t\t      xdg-desktop-menu\n",
            " logname\t\t\t      xdg-email\n",
            " look\t\t\t\t      xdg-icon-resource\n",
            " ls\t\t\t\t      xdg-mime\n",
            " lsattr\t\t\t\t      xdg-open\n",
            " lsblk\t\t\t\t      xdg-screensaver\n",
            " lsb_release\t\t\t      xdg-settings\n",
            " lscpu\t\t\t\t      xkbbell\n",
            " lsipc\t\t\t\t      xkbcomp\n",
            " lslocks\t\t\t      xkbevd\n",
            " lslogins\t\t\t      xkbprint\n",
            " lsmem\t\t\t\t      xkbvleds\n",
            " lsmod\t\t\t\t      xkbwatch\n",
            " lsns\t\t\t\t      xml2-config\n",
            " lsof\t\t\t\t      xsubpp\n",
            " lspgpot\t\t\t      Xvfb\n",
            " lstmeval\t\t\t      xvfb-run\n",
            " lstmtraining\t\t\t      xxd\n",
            " lto-dump-11\t\t\t      xz\n",
            " lzcat\t\t\t\t      xzcat\n",
            " lzcmp\t\t\t\t      xzcmp\n",
            " lzdiff\t\t\t\t      xzdiff\n",
            " lzegrep\t\t\t      xzegrep\n",
            " lzfgrep\t\t\t      xzfgrep\n",
            " lzgrep\t\t\t\t      xzgrep\n",
            " lzless\t\t\t\t      xzless\n",
            " lzma\t\t\t\t      xzmore\n",
            " lzmainfo\t\t\t      yes\n",
            " lzmore\t\t\t\t      ypdomainname\n",
            " m4\t\t\t\t      zcat\n",
            " make\t\t\t\t      zcmp\n",
            " makeconv\t\t\t      zdiff\n",
            " make-first-existing-target\t      zdump\n",
            " mako-render\t\t\t      zegrep\n",
            " man\t\t\t\t      zfgrep\n",
            " mandb\t\t\t\t      zforce\n",
            " manpath\t\t\t      zgrep\n",
            " man.REAL\t\t\t      zip\n",
            " man-recode\t\t\t      zipcloak\n",
            " markdown_py\t\t\t      zipdetails\n",
            " mawk\t\t\t\t      zipgrep\n",
            " mcookie\t\t\t      zipinfo\n",
            " md5sum\t\t\t\t      zipnote\n",
            " md5sum.textutils\t\t      zipsplit\n",
            " mdig\t\t\t\t      zless\n",
            " merge_unicharsets\t\t      zmore\n",
            " mesg\t\t\t\t      znew\n",
            " mftraining\t\t\t      zrun\n"
          ]
        }
      ]
    },
    {
      "cell_type": "code",
      "source": [
        "!pwd"
      ],
      "metadata": {
        "colab": {
          "base_uri": "https://localhost:8080/"
        },
        "id": "EVnvYBeukW6v",
        "outputId": "b5a81508-25fa-4989-c025-3fdf597f2208"
      },
      "execution_count": null,
      "outputs": [
        {
          "output_type": "stream",
          "name": "stdout",
          "text": [
            "/content\n"
          ]
        }
      ]
    },
    {
      "cell_type": "code",
      "source": [
        "!date"
      ],
      "metadata": {
        "colab": {
          "base_uri": "https://localhost:8080/"
        },
        "id": "7SKcn1hukZw3",
        "outputId": "c1f6de89-1e4d-4eae-d203-e6193245ba7a"
      },
      "execution_count": null,
      "outputs": [
        {
          "output_type": "stream",
          "name": "stdout",
          "text": [
            "Thu Aug  7 05:26:16 PM UTC 2025\n"
          ]
        }
      ]
    },
    {
      "cell_type": "markdown",
      "source": [
        "# Magic command"
      ],
      "metadata": {
        "id": "q4CWHdvfkyTE"
      }
    },
    {
      "cell_type": "code",
      "source": [
        "%lsmagic"
      ],
      "metadata": {
        "colab": {
          "base_uri": "https://localhost:8080/",
          "height": 1000
        },
        "id": "rDqDQrmNk14g",
        "outputId": "a7ec4429-6e9e-4e96-c1b2-2498eca9ed64"
      },
      "execution_count": null,
      "outputs": [
        {
          "output_type": "execute_result",
          "data": {
            "text/plain": [
              "Available line magics:\n",
              "%alias  %alias_magic  %autoawait  %autocall  %automagic  %autosave  %bookmark  %cat  %cd  %clear  %colors  %conda  %config  %connect_info  %cp  %debug  %dhist  %dirs  %doctest_mode  %ed  %edit  %env  %gui  %hist  %history  %killbgscripts  %ldir  %less  %lf  %lk  %ll  %load  %load_ext  %loadpy  %logoff  %logon  %logstart  %logstate  %logstop  %ls  %lsmagic  %lx  %macro  %magic  %man  %matplotlib  %mkdir  %more  %mv  %notebook  %page  %pastebin  %pdb  %pdef  %pdoc  %pfile  %pinfo  %pinfo2  %pip  %popd  %pprint  %precision  %prun  %psearch  %psource  %pushd  %pwd  %pycat  %pylab  %qtconsole  %quickref  %recall  %rehashx  %reload_ext  %rep  %rerun  %reset  %reset_selective  %rm  %rmdir  %run  %save  %sc  %set_env  %shell  %store  %sx  %system  %tb  %tensorflow_version  %time  %timeit  %unalias  %unload_ext  %who  %who_ls  %whos  %xdel  %xmode\n",
              "\n",
              "Available cell magics:\n",
              "%%!  %%HTML  %%SVG  %%bash  %%bigquery  %%bqsql  %%capture  %%debug  %%file  %%html  %%javascript  %%js  %%latex  %%markdown  %%perl  %%prun  %%pypy  %%python  %%python2  %%python3  %%ruby  %%script  %%sh  %%shell  %%spanner_graph  %%svg  %%sx  %%system  %%time  %%timeit  %%writefile\n",
              "\n",
              "Automagic is ON, % prefix IS NOT needed for line magics."
            ],
            "application/json": {
              "line": {
                "automagic": "AutoMagics",
                "autocall": "AutoMagics",
                "alias_magic": "BasicMagics",
                "lsmagic": "BasicMagics",
                "magic": "BasicMagics",
                "page": "BasicMagics",
                "pprint": "BasicMagics",
                "colors": "BasicMagics",
                "xmode": "BasicMagics",
                "quickref": "BasicMagics",
                "doctest_mode": "BasicMagics",
                "gui": "BasicMagics",
                "precision": "BasicMagics",
                "notebook": "BasicMagics",
                "save": "CodeMagics",
                "pastebin": "CodeMagics",
                "loadpy": "CodeMagics",
                "load": "CodeMagics",
                "edit": "KernelMagics",
                "config": "ConfigMagics",
                "prun": "ExecutionMagics",
                "pdb": "ExecutionMagics",
                "debug": "ExecutionMagics",
                "tb": "ExecutionMagics",
                "run": "ExecutionMagics",
                "timeit": "ExecutionMagics",
                "time": "ExecutionMagics",
                "macro": "ExecutionMagics",
                "load_ext": "ExtensionMagics",
                "unload_ext": "ExtensionMagics",
                "reload_ext": "ExtensionMagics",
                "history": "HistoryMagics",
                "recall": "HistoryMagics",
                "rerun": "HistoryMagics",
                "logstart": "LoggingMagics",
                "logstop": "LoggingMagics",
                "logoff": "LoggingMagics",
                "logon": "LoggingMagics",
                "logstate": "LoggingMagics",
                "pinfo": "NamespaceMagics",
                "pinfo2": "NamespaceMagics",
                "pdef": "NamespaceMagics",
                "pdoc": "NamespaceMagics",
                "psource": "NamespaceMagics",
                "pfile": "NamespaceMagics",
                "psearch": "NamespaceMagics",
                "who_ls": "NamespaceMagics",
                "who": "NamespaceMagics",
                "whos": "NamespaceMagics",
                "reset": "NamespaceMagics",
                "reset_selective": "NamespaceMagics",
                "xdel": "NamespaceMagics",
                "alias": "OSMagics",
                "unalias": "OSMagics",
                "rehashx": "OSMagics",
                "pwd": "OSMagics",
                "cd": "OSMagics",
                "env": "OSMagics",
                "set_env": "OSMagics",
                "pushd": "OSMagics",
                "popd": "OSMagics",
                "dirs": "OSMagics",
                "dhist": "OSMagics",
                "sc": "OSMagics",
                "sx": "OSMagics",
                "system": "OSMagics",
                "bookmark": "OSMagics",
                "pycat": "OSMagics",
                "pip": "Other",
                "conda": "PackagingMagics",
                "matplotlib": "PylabMagics",
                "pylab": "PylabMagics",
                "killbgscripts": "ScriptMagics",
                "autoawait": "AsyncMagics",
                "ed": "Other",
                "hist": "Other",
                "rep": "Other",
                "clear": "KernelMagics",
                "less": "KernelMagics",
                "more": "KernelMagics",
                "man": "KernelMagics",
                "connect_info": "KernelMagics",
                "qtconsole": "KernelMagics",
                "autosave": "KernelMagics",
                "mkdir": "Other",
                "rmdir": "Other",
                "mv": "Other",
                "rm": "Other",
                "cp": "Other",
                "cat": "Other",
                "ls": "Other",
                "ll": "Other",
                "lf": "Other",
                "lk": "Other",
                "ldir": "Other",
                "lx": "Other",
                "store": "StoreMagics",
                "shell": "Other",
                "tensorflow_version": "Other"
              },
              "cell": {
                "js": "DisplayMagics",
                "javascript": "DisplayMagics",
                "latex": "DisplayMagics",
                "svg": "DisplayMagics",
                "html": "DisplayMagics",
                "markdown": "DisplayMagics",
                "prun": "ExecutionMagics",
                "debug": "ExecutionMagics",
                "timeit": "ExecutionMagics",
                "time": "ExecutionMagics",
                "capture": "ExecutionMagics",
                "sx": "OSMagics",
                "system": "OSMagics",
                "!": "OSMagics",
                "writefile": "OSMagics",
                "script": "ScriptMagics",
                "sh": "Other",
                "bash": "Other",
                "perl": "Other",
                "ruby": "Other",
                "python": "Other",
                "python2": "Other",
                "python3": "Other",
                "pypy": "Other",
                "SVG": "Other",
                "HTML": "Other",
                "file": "Other",
                "bigquery": "Other",
                "spanner_graph": "Other",
                "shell": "Other",
                "bqsql": "Other"
              }
            }
          },
          "metadata": {},
          "execution_count": 5
        }
      ]
    },
    {
      "cell_type": "code",
      "source": [
        "%alias?"
      ],
      "metadata": {
        "id": "fiNYKAC5k4He"
      },
      "execution_count": null,
      "outputs": []
    },
    {
      "cell_type": "code",
      "source": [
        "%alias"
      ],
      "metadata": {
        "colab": {
          "base_uri": "https://localhost:8080/"
        },
        "id": "AonsYz0flA__",
        "outputId": "76a7c7d3-a023-41e2-f681-379944f0c838"
      },
      "execution_count": null,
      "outputs": [
        {
          "output_type": "stream",
          "name": "stdout",
          "text": [
            "Total number of aliases: 12\n"
          ]
        },
        {
          "output_type": "execute_result",
          "data": {
            "text/plain": [
              "[('cat', 'cat'),\n",
              " ('cp', 'cp'),\n",
              " ('ldir', 'ls -F -o --color %l | grep /$'),\n",
              " ('lf', 'ls -F -o --color %l | grep ^-'),\n",
              " ('lk', 'ls -F -o --color %l | grep ^l'),\n",
              " ('ll', 'ls -F -o --color'),\n",
              " ('ls', 'ls -F --color'),\n",
              " ('lx', 'ls -F -o --color %l | grep ^-..x'),\n",
              " ('mkdir', 'mkdir'),\n",
              " ('mv', 'mv'),\n",
              " ('rm', 'rm'),\n",
              " ('rmdir', 'rmdir')]"
            ]
          },
          "metadata": {},
          "execution_count": 7
        }
      ]
    },
    {
      "cell_type": "code",
      "source": [
        "%history"
      ],
      "metadata": {
        "colab": {
          "base_uri": "https://localhost:8080/"
        },
        "id": "z5HIROVflEDy",
        "outputId": "ce19c8e0-72da-4f29-a220-74e2cfab501b"
      },
      "execution_count": null,
      "outputs": [
        {
          "output_type": "stream",
          "name": "stdout",
          "text": [
            "!ls /bin\n",
            "!pdw\n",
            "!pwd\n",
            "!date\n",
            "%lsmagic\n",
            "%alias?\n",
            "%alias\n",
            "%history\n"
          ]
        }
      ]
    },
    {
      "cell_type": "code",
      "source": [
        "%ls"
      ],
      "metadata": {
        "colab": {
          "base_uri": "https://localhost:8080/"
        },
        "id": "F_X-ADBdlLvj",
        "outputId": "2d972369-3225-4b18-d524-64263027369f"
      },
      "execution_count": null,
      "outputs": [
        {
          "output_type": "stream",
          "name": "stdout",
          "text": [
            "\u001b[0m\u001b[01;34msample_data\u001b[0m/\n"
          ]
        }
      ]
    },
    {
      "cell_type": "code",
      "source": [
        "%pwd"
      ],
      "metadata": {
        "colab": {
          "base_uri": "https://localhost:8080/",
          "height": 35
        },
        "id": "z6j1R6ZAlQ6y",
        "outputId": "bbe67339-8400-40eb-d046-a0897ae7ef40"
      },
      "execution_count": null,
      "outputs": [
        {
          "output_type": "execute_result",
          "data": {
            "text/plain": [
              "'/content'"
            ],
            "application/vnd.google.colaboratory.intrinsic+json": {
              "type": "string"
            }
          },
          "metadata": {},
          "execution_count": 10
        }
      ]
    },
    {
      "cell_type": "code",
      "source": [
        "%shell?"
      ],
      "metadata": {
        "id": "3MLuT4relTxa"
      },
      "execution_count": null,
      "outputs": []
    },
    {
      "cell_type": "code",
      "source": [
        "%shell date"
      ],
      "metadata": {
        "colab": {
          "base_uri": "https://localhost:8080/"
        },
        "id": "p3j4x6ZIlWY3",
        "outputId": "72a22669-3624-4afe-c519-0afefd23f745"
      },
      "execution_count": null,
      "outputs": [
        {
          "output_type": "stream",
          "name": "stdout",
          "text": [
            "Thu Aug  7 05:30:27 PM UTC 2025\n"
          ]
        },
        {
          "output_type": "execute_result",
          "data": {
            "text/plain": []
          },
          "metadata": {},
          "execution_count": 12
        }
      ]
    },
    {
      "cell_type": "code",
      "source": [
        "%tensorflow_version 2.x"
      ],
      "metadata": {
        "colab": {
          "base_uri": "https://localhost:8080/"
        },
        "id": "xUDndkQelYyx",
        "outputId": "87bdd384-20cd-4d5d-b836-d5813be14a88"
      },
      "execution_count": null,
      "outputs": [
        {
          "output_type": "stream",
          "name": "stdout",
          "text": [
            "Colab only includes TensorFlow 2.x; %tensorflow_version has no effect.\n"
          ]
        }
      ]
    },
    {
      "cell_type": "code",
      "source": [
        "import tensorflow as tf"
      ],
      "metadata": {
        "id": "xWHpS6WClfob"
      },
      "execution_count": null,
      "outputs": []
    },
    {
      "cell_type": "code",
      "source": [
        "print(tf.__version__)"
      ],
      "metadata": {
        "colab": {
          "base_uri": "https://localhost:8080/"
        },
        "id": "nC0sxzBTlkzu",
        "outputId": "76b5e150-5976-4634-946b-3363410c36a8"
      },
      "execution_count": null,
      "outputs": [
        {
          "output_type": "stream",
          "name": "stdout",
          "text": [
            "2.19.0\n"
          ]
        }
      ]
    },
    {
      "cell_type": "code",
      "source": [
        "%time\n",
        "for i in range(10000):\n",
        "  for j in range(10000):\n",
        "    i * j"
      ],
      "metadata": {
        "colab": {
          "base_uri": "https://localhost:8080/"
        },
        "id": "-dyBND0dlnEp",
        "outputId": "3a4410e5-94cf-49c1-9315-0e29340ba0d5"
      },
      "execution_count": null,
      "outputs": [
        {
          "output_type": "stream",
          "name": "stdout",
          "text": [
            "CPU times: user 3 µs, sys: 0 ns, total: 3 µs\n",
            "Wall time: 5.01 µs\n"
          ]
        }
      ]
    },
    {
      "cell_type": "code",
      "source": [
        "%who"
      ],
      "metadata": {
        "colab": {
          "base_uri": "https://localhost:8080/"
        },
        "id": "IJ8x0v9ylplV",
        "outputId": "4c6e6091-7ab5-4e9f-f913-bc2a6e3743cc"
      },
      "execution_count": null,
      "outputs": [
        {
          "output_type": "stream",
          "name": "stdout",
          "text": [
            "i\t j\t tf\t \n"
          ]
        }
      ]
    },
    {
      "cell_type": "code",
      "source": [
        "%%html\n",
        "<h1> hello World</h1>"
      ],
      "metadata": {
        "colab": {
          "base_uri": "https://localhost:8080/",
          "height": 74
        },
        "id": "KD6n13yGl5I7",
        "outputId": "9ca3b50a-be2f-4b05-cf60-96b299bcb6ac"
      },
      "execution_count": null,
      "outputs": [
        {
          "output_type": "display_data",
          "data": {
            "text/plain": [
              "<IPython.core.display.HTML object>"
            ],
            "text/html": [
              "<h1> hello World</h1>\n"
            ]
          },
          "metadata": {}
        }
      ]
    },
    {
      "cell_type": "code",
      "source": [
        "%%javascript\n",
        "console.log(\"i am consoling you\")"
      ],
      "metadata": {
        "colab": {
          "base_uri": "https://localhost:8080/",
          "height": 17
        },
        "id": "cdLbvJj0mBRE",
        "outputId": "2bed4038-2e43-49db-ba02-59ee68b3a297"
      },
      "execution_count": null,
      "outputs": [
        {
          "output_type": "display_data",
          "data": {
            "text/plain": [
              "<IPython.core.display.Javascript object>"
            ],
            "application/javascript": [
              "console.log(\"i am consoling you\")\n"
            ]
          },
          "metadata": {}
        }
      ]
    },
    {
      "cell_type": "markdown",
      "source": [
        "# Excute External FIle"
      ],
      "metadata": {
        "id": "GcmcAKMdmTeB"
      }
    },
    {
      "cell_type": "code",
      "source": [
        "%%writefile test.py3\n",
        "print(\"hello from colab\")\n",
        "a = 8\n",
        "print(a)"
      ],
      "metadata": {
        "colab": {
          "base_uri": "https://localhost:8080/"
        },
        "id": "FUHKOBUDmH1h",
        "outputId": "e2f8ba74-4596-49c2-ab45-987fa03b8c57"
      },
      "execution_count": null,
      "outputs": [
        {
          "output_type": "stream",
          "name": "stdout",
          "text": [
            "Writing test.py3\n"
          ]
        }
      ]
    },
    {
      "cell_type": "code",
      "source": [
        "!python /content/test.py3"
      ],
      "metadata": {
        "colab": {
          "base_uri": "https://localhost:8080/"
        },
        "id": "imfRgkD2meMj",
        "outputId": "821988f2-b3de-40dc-f163-b1dd5e812235"
      },
      "execution_count": null,
      "outputs": [
        {
          "output_type": "stream",
          "name": "stdout",
          "text": [
            "hello from colab\n",
            "8\n"
          ]
        }
      ]
    },
    {
      "cell_type": "markdown",
      "source": [
        "# third party package"
      ],
      "metadata": {
        "id": "2LSVgnP0m1kh"
      }
    },
    {
      "cell_type": "code",
      "source": [
        "import keras"
      ],
      "metadata": {
        "id": "_0tkQDaom7N-"
      },
      "execution_count": null,
      "outputs": []
    },
    {
      "cell_type": "code",
      "source": [
        "from color import *"
      ],
      "metadata": {
        "colab": {
          "base_uri": "https://localhost:8080/",
          "height": 393
        },
        "id": "4Ee9yKdpm_LK",
        "outputId": "f2808808-28da-4883-dd33-53186fbe4085"
      },
      "execution_count": null,
      "outputs": [
        {
          "output_type": "error",
          "ename": "ModuleNotFoundError",
          "evalue": "No module named 'color'",
          "traceback": [
            "\u001b[0;31m---------------------------------------------------------------------------\u001b[0m",
            "\u001b[0;31mModuleNotFoundError\u001b[0m                       Traceback (most recent call last)",
            "\u001b[0;32m/tmp/ipython-input-3315948332.py\u001b[0m in \u001b[0;36m<cell line: 0>\u001b[0;34m()\u001b[0m\n\u001b[0;32m----> 1\u001b[0;31m \u001b[0;32mfrom\u001b[0m \u001b[0mcolor\u001b[0m \u001b[0;32mimport\u001b[0m \u001b[0;34m*\u001b[0m\u001b[0;34m\u001b[0m\u001b[0;34m\u001b[0m\u001b[0m\n\u001b[0m",
            "\u001b[0;31mModuleNotFoundError\u001b[0m: No module named 'color'",
            "",
            "\u001b[0;31m---------------------------------------------------------------------------\u001b[0;32m\nNOTE: If your import is failing due to a missing package, you can\nmanually install dependencies using either !pip or !apt.\n\nTo view examples of installing some common dependencies, click the\n\"Open Examples\" button below.\n\u001b[0;31m---------------------------------------------------------------------------\u001b[0m\n"
          ],
          "errorDetails": {
            "actions": [
              {
                "action": "open_url",
                "actionText": "Open Examples",
                "url": "/notebooks/snippets/importing_libraries.ipynb"
              }
            ]
          }
        }
      ]
    },
    {
      "cell_type": "code",
      "source": [
        "!pip install color"
      ],
      "metadata": {
        "colab": {
          "base_uri": "https://localhost:8080/"
        },
        "id": "4wYaONadnDHb",
        "outputId": "03612a4b-9631-4666-d74b-fe8eb816fc87"
      },
      "execution_count": null,
      "outputs": [
        {
          "output_type": "stream",
          "name": "stdout",
          "text": [
            "Collecting color\n",
            "  Using cached color-0.1.1.tar.gz (3.6 kB)\n",
            "  Preparing metadata (setup.py) ... \u001b[?25l\u001b[?25hdone\n",
            "Discarding \u001b[4;34mhttps://files.pythonhosted.org/packages/88/04/0defd6f424e5bafb5abc75510cbe119a85d80b5505f1de5cd9a16d89ba8c/color-0.1.1.tar.gz (from https://pypi.org/simple/color/)\u001b[0m: \u001b[33mRequested color from https://files.pythonhosted.org/packages/88/04/0defd6f424e5bafb5abc75510cbe119a85d80b5505f1de5cd9a16d89ba8c/color-0.1.1.tar.gz has inconsistent version: expected '0.1.1', but metadata has '0.1'\u001b[0m\n",
            "\u001b[31mERROR: Could not find a version that satisfies the requirement color (from versions: 0.1.1)\u001b[0m\u001b[31m\n",
            "\u001b[0m\u001b[31mERROR: No matching distribution found for color\u001b[0m\u001b[31m\n",
            "\u001b[0m"
          ]
        }
      ]
    },
    {
      "cell_type": "markdown",
      "source": [
        "# GPU & PRO"
      ],
      "metadata": {
        "id": "imXIIvLWnRp4"
      }
    },
    {
      "cell_type": "code",
      "source": [
        "import tensorflow as tf\n",
        "tf.test.gpu_device_name()"
      ],
      "metadata": {
        "colab": {
          "base_uri": "https://localhost:8080/",
          "height": 35
        },
        "id": "ZqJaehzsnT6b",
        "outputId": "7ce5298d-6666-4457-d79e-f9de24588bd6"
      },
      "execution_count": null,
      "outputs": [
        {
          "output_type": "execute_result",
          "data": {
            "text/plain": [
              "'/device:GPU:0'"
            ],
            "application/vnd.google.colaboratory.intrinsic+json": {
              "type": "string"
            }
          },
          "metadata": {},
          "execution_count": 1
        }
      ]
    }
  ]
}